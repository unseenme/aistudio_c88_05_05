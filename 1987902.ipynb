{
 "cells": [
  {
   "cell_type": "markdown",
   "metadata": {
    "collapsed": false
   },
   "source": [
    "**A.     代码内容说明（启动训练及推理的方式、必要注释等）；**\n",
    "\n",
    "启动训练，请看【4 训练】  \n",
    "推理，请看【5 推理】\n",
    "\n",
    "**B.     模型构建思路及调优过程（可具体包括：思路框架图、思路步骤详述、模型应用+调优过程）；**\n",
    "\n",
    "调优过程主要是在赛题基线的基础上，调整了BatchSize与学习率进行训练。\n",
    "\n",
    "**C.     若参考他人代码，请在比赛报告中附上链接以便审查。**\n",
    "\n",
    "参考了赛题基线：\n",
    "https://aistudio.baidu.com/aistudio/personalcenter/thirdview/277680"
   ]
  },
  {
   "cell_type": "markdown",
   "metadata": {
    "collapsed": false
   },
   "source": [
    "**checkpoint文件**  \n",
    "checkpoint.zip\n",
    "\n",
    "**提交结果**  \n",
    "0523.zip"
   ]
  },
  {
   "cell_type": "markdown",
   "metadata": {
    "collapsed": false
   },
   "source": [
    "# 1 环境准备"
   ]
  },
  {
   "cell_type": "code",
   "execution_count": 1,
   "metadata": {
    "collapsed": false
   },
   "outputs": [
    {
     "name": "stdout",
     "output_type": "stream",
     "text": [
      "mv: cannot move 'PaddleSeg-release-v2.0' to 'PaddleSeg/PaddleSeg-release-v2.0': Directory not empty\r\n"
     ]
    }
   ],
   "source": [
    "# 解压PaddleSeg压缩包\r\n",
    "!unzip -oq data/data88946/PaddleSeg.zip -d /home/aistudio/\r\n",
    "# 修改文件名\r\n",
    "!mv PaddleSeg-release-v2.0 PaddleSeg"
   ]
  },
  {
   "cell_type": "markdown",
   "metadata": {
    "collapsed": false
   },
   "source": [
    "上一步mv，可以将PaddleSeg加压后的文件目录改成PaddleSeg\n",
    ">PaddleSeg下载至github的release2.0版本，为了方便大家使用，已添加在了数据集中供大家使用"
   ]
  },
  {
   "cell_type": "code",
   "execution_count": null,
   "metadata": {
    "collapsed": false
   },
   "outputs": [],
   "source": [
    "# 删除data目录 —— 用于数据划分时，产生了意料之外的数据扩充时的数据重置\r\n",
    "# %cd /home/aistudio/\r\n",
    "# !rm -rf PaddleSeg/data\r\n",
    "# 解压数据集到PaddleSeg目录下的data文件夹\r\n",
    "!unzip -oq /home/aistudio/data/data93545/常规赛：PALM病理性近视病灶检测与分割.zip -d PaddleSeg/data"
   ]
  },
  {
   "cell_type": "code",
   "execution_count": null,
   "metadata": {
    "collapsed": false
   },
   "outputs": [],
   "source": [
    "# 查看数据集文件的树形结构\r\n",
    "!tree -d PaddleSeg/data/常规赛：PALM病理性近视病灶检测与分割"
   ]
  },
  {
   "cell_type": "markdown",
   "metadata": {
    "collapsed": false
   },
   "source": [
    "通过PIL的Image读取图片查看以下原数据与Label标注情况"
   ]
  },
  {
   "cell_type": "code",
   "execution_count": null,
   "metadata": {
    "collapsed": false
   },
   "outputs": [],
   "source": [
    "from PIL import Image\r\n",
    "import numpy as np\r\n",
    "# 读取图片\r\n",
    "png_img = Image.open('PaddleSeg/data/常规赛：PALM病理性近视病灶检测与分割/Train/fundus_image/H0003.jpg')\r\n",
    "png_img  # 展示真实图片"
   ]
  },
  {
   "cell_type": "code",
   "execution_count": null,
   "metadata": {
    "collapsed": false
   },
   "outputs": [],
   "source": [
    "bmp_img = Image.open('PaddleSeg/data/常规赛：PALM病理性近视病灶检测与分割/Train/Lesion_Masks/Atrophy/H0003.bmp')\r\n",
    "bmp_img   # 展示萎缩标注图片"
   ]
  },
  {
   "cell_type": "code",
   "execution_count": null,
   "metadata": {
    "collapsed": false
   },
   "outputs": [],
   "source": [
    "bmp_img = Image.open('PaddleSeg/data/常规赛：PALM病理性近视病灶检测与分割/Train/Lesion_Masks/Detachment/P0053.bmp')\r\n",
    "bmp_img   # 展示脱落标注图片"
   ]
  },
  {
   "cell_type": "markdown",
   "metadata": {
    "collapsed": false
   },
   "source": [
    "# 2 划分数据集与数据预处置\n",
    "\n",
    "当前划分比例为0.8——可在utils文件夹下的dataset_splited.py修改**train_percent**为其它值\n",
    "\n",
    "数据预处置-可在utils文件夹下的dataset_pretrans.py中查看相关代码--实现将255转化为1，原问题变二分类问题\n",
    "\n",
    "> 注意：当前数据处理中，存在对数据进行扩充，因此当前程序运行一次之后会使得原分类数据数目增加——(扩增不宜过大，否则划分数据进行训练和验证时会出现偏差问题)\n",
    "\n",
    "> 仅可运行一次，多次运行会导致填充数量过多，这是源码中扩充机制决定的(直接扩充到源文件夹中，所以下一次划分的时候就会默认把源文件中所有的文件读取)\n",
    "\n",
    "> 感兴趣可前往查看dataset_splited.py的数据扩充区"
   ]
  },
  {
   "cell_type": "code",
   "execution_count": null,
   "metadata": {
    "collapsed": false
   },
   "outputs": [],
   "source": [
    "# 保证路径为初始路径\r\n",
    "%cd /home/aistudio\r\n",
    "\r\n",
    "# 划分数据\r\n",
    "!python utils/dataset_splited.py\r\n",
    "\r\n",
    "# 转换标签--预处置\r\n",
    "!python utils/dataset_pretrans.py"
   ]
  },
  {
   "cell_type": "markdown",
   "metadata": {
    "collapsed": false
   },
   "source": [
    "移除原数据，减小项目空间，减少下一次进入和退出保存时花的时间"
   ]
  },
  {
   "cell_type": "code",
   "execution_count": null,
   "metadata": {
    "collapsed": false
   },
   "outputs": [],
   "source": [
    "# 移除’常规赛：PALM病理性近视病灶检测与分割‘文件夹\r\n",
    "!rm -rf PaddleSeg/data/常规赛：PALM病理性近视病灶检测与分割\r\n",
    "!rm -rf PaddleSeg/data/__MACOSX "
   ]
  },
  {
   "cell_type": "markdown",
   "metadata": {
    "collapsed": false
   },
   "source": [
    "# 3 选择比赛模型\n",
    "\n",
    "基线模型为:  配置略微修改的`PaddleSeg/configs/emanet/emanet_resnet50_os8_voc12aug_512x512_40k.yml`\n",
    "\n",
    "具体配置在\n",
    "\t\n",
    "\t-- example/emanet_resnet50_os8_voc12aug_512x512_40k_Deta.yml\n",
    "    * 用于分割脱落情况\n",
    "    \n",
    "\t-- example/emanet_resnet50_os8_voc12aug_512x512_40k_Atro.yml\n",
    "    * 用于分割萎缩情况\n",
    "\n",
    "详细数据集配置在\n",
    "\n",
    "\t-- example/pascal_voc2012_Deta.yml\n",
    "    * 用于设置脱落情况数据\n",
    "\n",
    "\t-- example/pascal_voc2012_Atro.yml\n",
    "    * 用于设置萎缩情况数据\n",
    "    \n",
    "\n",
    "> 针对不同分割任务配置不同的分割模型，以适配不同的任务驱动"
   ]
  },
  {
   "cell_type": "markdown",
   "metadata": {
    "collapsed": false
   },
   "source": [
    "> 将预置的基线配置yml移动到相应的文件夹下\n",
    "\n",
    "* _base_: 数据加载yml存放\n",
    "\n",
    "* emanet: emanet模型yml存放"
   ]
  },
  {
   "cell_type": "code",
   "execution_count": null,
   "metadata": {
    "collapsed": false
   },
   "outputs": [],
   "source": [
    "%cd /home/aistudio/\r\n",
    "!cp -u example/pascal_voc2012_Atro.yml PaddleSeg/configs/_base_/\r\n",
    "!cp -u example/pascal_voc2012_Deta.yml PaddleSeg/configs/_base_/\r\n",
    "!cp -u example/emanet_resnet50_os8_voc12aug_512x512_40k_Deta.yml PaddleSeg/configs/emanet/\r\n",
    "!cp -u example/emanet_resnet50_os8_voc12aug_512x512_40k_Atro.yml PaddleSeg/configs/emanet/"
   ]
  },
  {
   "cell_type": "markdown",
   "metadata": {
    "collapsed": false
   },
   "source": [
    "\n",
    "# 4 训练"
   ]
  },
  {
   "cell_type": "code",
   "execution_count": null,
   "metadata": {
    "collapsed": false
   },
   "outputs": [],
   "source": [
    "# 下载依赖项，保证PaddleSeg正常运行\r\n",
    "%cd PaddleSeg\r\n",
    "%pwd\r\n",
    "!pip install -r requirements.txt"
   ]
  },
  {
   "cell_type": "markdown",
   "metadata": {
    "collapsed": false
   },
   "source": [
    "> 更换自定义的模型文件时，只需要修改对应的模型yml、数据集yml(_base_中的yml)、以及替换下方的yml即可进行训练了\n",
    "\n",
    "> 不要更改输出目录，否则后边的代码也需要修改，包括预测、后处理中的所有路径"
   ]
  },
  {
   "cell_type": "code",
   "execution_count": 14,
   "metadata": {
    "collapsed": false
   },
   "outputs": [],
   "source": [
    "%cd PaddleSeg\r\n",
    "%pwd\r\n",
    "# 训练分割Detachment的模型，并保存到/output/Detachment\r\n",
    "!python train.py --c configs/emanet/emanet_resnet50_os8_voc12aug_512x512_40k_Deta.yml \\\r\n",
    "--use_vdl \\\r\n",
    "--save_interval 100 \\\r\n",
    "--do_eval \\\r\n",
    "--seed 2021 \\\r\n",
    "--iters 1000 \\\r\n",
    "--learning_rate 0.01 \\\r\n",
    "--save_dir ./output/Detachment\r\n",
    "\r\n",
    "# 训练分割Atrophy的模型，并保存到/output/Atrophy\r\n",
    "!python train.py --c configs/emanet/emanet_resnet50_os8_voc12aug_512x512_40k_Atro.yml \\\r\n",
    "--use_vdl \\\r\n",
    "--save_interval 200 \\\r\n",
    "--do_eval \\\r\n",
    "--seed 2021 \\\r\n",
    "--iters 3000 \\\r\n",
    "--learning_rate 0.01 \\\r\n",
    "--save_dir ./output/Atrophy"
   ]
  },
  {
   "cell_type": "markdown",
   "metadata": {
    "collapsed": false
   },
   "source": [
    "# 5 推理\n",
    "\n",
    "这可以直接使用emanet进行预测，不用修改数据集yml，也不用修改相应的模型yml，注意训练权重对应即可！\n",
    "\n",
    "> 预测结果按类别分别放在`./output/result/Detachment` 和 `./output/result/Atrophy` 下\n",
    "\n",
    "> 如果使用不同的模型对不同的分割类进行讨论，注意模型yml即可\n",
    "\n",
    "> 提交结果为两种单独预测的结果"
   ]
  },
  {
   "cell_type": "markdown",
   "metadata": {
    "collapsed": false
   },
   "source": [
    "**默认使用Iou评估最好的模型训练参数--best_model**"
   ]
  },
  {
   "cell_type": "code",
   "execution_count": 15,
   "metadata": {
    "collapsed": false
   },
   "outputs": [],
   "source": [
    "%cd PaddleSeg/\r\n",
    "# 预测Detachment\r\n",
    "!python predict.py --config configs/emanet/emanet_resnet50_os8_voc12aug_512x512_40k_Deta.yml \\\r\n",
    "--model_path output/Detachment/best_model/model.pdparams \\\r\n",
    "--image_path data/Detachment/Test \\\r\n",
    "--save_dir ./output/result/Detachment\r\n",
    "\r\n",
    "# 预测Atrophy\r\n",
    "!python predict.py --config configs/emanet/emanet_resnet50_os8_voc12aug_512x512_40k_Atro.yml  \\\r\n",
    "--model_path output/Atrophy/best_model/model.pdparams \\\r\n",
    "--image_path data/Atrophy/Test \\\r\n",
    "--save_dir ./output/result/Atrophy"
   ]
  },
  {
   "cell_type": "markdown",
   "metadata": {
    "collapsed": false
   },
   "source": [
    "# 6 后处理\n",
    "\n",
    "* 将类别值1换为255，进行赛题结果提交"
   ]
  },
  {
   "cell_type": "code",
   "execution_count": 16,
   "metadata": {
    "collapsed": false
   },
   "outputs": [],
   "source": [
    "%cd /home/aistudio/\r\n",
    "!python utils/post_process.py"
   ]
  },
  {
   "cell_type": "markdown",
   "metadata": {
    "collapsed": false
   },
   "source": [
    "# 7 生成结果文件"
   ]
  },
  {
   "cell_type": "code",
   "execution_count": 17,
   "metadata": {
    "collapsed": false
   },
   "outputs": [],
   "source": [
    "# 复制文件到最顶层目录\r\n",
    "%cd /home/aistudio\r\n",
    "!cp -r PaddleSeg/output/result/ Lesion_Segmentation\r\n",
    "\r\n",
    "# 过程移动文件--保证不包含生成的子目录\r\n",
    "%cd Lesion_Segmentation\r\n",
    "!cp -r Detachment/pseudo_color_prediction/. Detachment\r\n",
    "!cp -r Atrophy/pseudo_color_prediction/. Atrophy\r\n",
    "\r\n",
    "# 获取指定的提交目录格式\r\n",
    "!rm -rf Detachment/added_prediction\r\n",
    "!rm -rf Detachment/pseudo_color_prediction\r\n",
    "\r\n",
    "!rm -rf Atrophy/added_prediction\r\n",
    "!rm -rf Atrophy/pseudo_color_prediction\r\n",
    "\r\n",
    "# 压缩文件\r\n",
    "%cd /home/aistudio\r\n",
    "!zip -r Lesion_Segmentation.zip Lesion_Segmentation\r\n",
    "# 删除复制的文件\r\n",
    "!rm -rf Lesion_Segmentation"
   ]
  },
  {
   "cell_type": "code",
   "execution_count": null,
   "metadata": {
    "collapsed": false
   },
   "outputs": [],
   "source": [
    "# # 删除zip的文件--丢失提交结果，需重新后处理生成\r\n",
    "# !rm -rf Lesion_Segmentation.zip\r\n",
    "# # 删除预测结果--丢失预测结果，需重新预测\r\n",
    "# !rm -rf PaddleSeg/output/result\r\n",
    "# # 删除output文件夹--丢失模型参数，需重新训练\r\n",
    "# !rm -rf PaddleSeg/output\r\n",
    "# # 删除data文件夹--数据将丢失，需要重新解压，划分，预处置\r\n",
    "# !rm -rf PaddleSeg/data"
   ]
  }
 ],
 "metadata": {
  "kernelspec": {
   "display_name": "PaddlePaddle 2.0.0b0 (Python 3.5)",
   "language": "python",
   "name": "py35-paddle1.2.0"
  },
  "language_info": {
   "codemirror_mode": {
    "name": "ipython",
    "version": 3
   },
   "file_extension": ".py",
   "mimetype": "text/x-python",
   "name": "python",
   "nbconvert_exporter": "python",
   "pygments_lexer": "ipython3",
   "version": "3.7.4"
  }
 },
 "nbformat": 4,
 "nbformat_minor": 1
}
